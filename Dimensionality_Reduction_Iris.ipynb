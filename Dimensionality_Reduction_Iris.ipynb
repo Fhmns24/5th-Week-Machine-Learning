{
  "nbformat": 4,
  "nbformat_minor": 0,
  "metadata": {
    "colab": {
      "provenance": []
    },
    "kernelspec": {
      "name": "python3",
      "display_name": "Python 3"
    },
    "language_info": {
      "name": "python"
    }
  },
  "cells": [
    {
      "cell_type": "code",
      "execution_count": null,
      "metadata": {
        "id": "3vg6tKPTcsIR"
      },
      "outputs": [],
      "source": [
        "#Fahmi Nanda Saputro\n",
        "#1103200203"
      ]
    },
    {
      "cell_type": "code",
      "source": [
        "#Mengimpor modul 'dataset' dan berisi dataset bawaan\n",
        "from sklearn import datasets\n",
        "#mengimpor fungsi 'train set split' dari modul 'model selection' digunakan untuk memisahkan dataset\n",
        "from sklearn.model_selection import train_test_split\n",
        "\n",
        "#membuat dataset iris ke dalam variabel iris\n",
        "iris = datasets.load_iris()\n",
        "#menetapkan atribut dari dataset iris ke dalam variabel atribut\n",
        "atribut = iris.data\n",
        "#menetapkan label dataset iris ke dalam variabel label dan berisi kelas atau jenis spesies\n",
        "label = iris.target\n",
        "\n",
        "# bagi dataset menjadi train set dan test set dan menggunakan 20% dari data sebagai data uji\n",
        "X_train, X_test, y_train, y_test = train_test_split(\n",
        "    atribut, label, test_size=0.2)"
      ],
      "metadata": {
        "id": "GByYt5Pfc7z4"
      },
      "execution_count": 3,
      "outputs": []
    },
    {
      "cell_type": "code",
      "source": [
        "#mengimpor modul tree dan berisi algoritma decision tree untuk klasifikasi dan regresi\n",
        "from sklearn import tree\n",
        "\n",
        "#membuat instace dari kelas decision tree classifier yang akan digunakan untuk model decision tree\n",
        "decision_tree = tree.DecisionTreeClassifier()\n",
        "#melatih model decision tree menggunakan data latih\n",
        "model_pertama = decision_tree.fit(X_train, y_train)\n",
        "#mengukur akurasi model yang telah dilatih dengan data uji\n",
        "model_pertama.score(X_test, y_test)\n",
        ""
      ],
      "metadata": {
        "colab": {
          "base_uri": "https://localhost:8080/"
        },
        "id": "nMiZvdkHefci",
        "outputId": "6dd58698-ee2d-4b28-dd37-985ea5b2dbe3"
      },
      "execution_count": 2,
      "outputs": [
        {
          "output_type": "execute_result",
          "data": {
            "text/plain": [
              "0.9"
            ]
          },
          "metadata": {},
          "execution_count": 2
        }
      ]
    },
    {
      "cell_type": "code",
      "source": [
        "from sklearn.decomposition import PCA\n",
        "\n",
        "#membuat objek PCA dengan 4 principal component\n",
        "pca = PCA(n_components=4)\n",
        "\n",
        "#mengaplikasikan PCA pada dataset\n",
        "pca_attributes = pca.fit_transform(X_train)\n",
        "\n",
        "#melihat variance dari setiap atribut\n",
        "pca.explained_variance_ratio_"
      ],
      "metadata": {
        "colab": {
          "base_uri": "https://localhost:8080/"
        },
        "id": "uJZp_HONkRVz",
        "outputId": "6a86a7d0-388e-4a67-8144-8248c08da89a"
      },
      "execution_count": 4,
      "outputs": [
        {
          "output_type": "execute_result",
          "data": {
            "text/plain": [
              "array([0.93175123, 0.0469952 , 0.015932  , 0.00532158])"
            ]
          },
          "metadata": {},
          "execution_count": 4
        }
      ]
    },
    {
      "cell_type": "code",
      "source": [
        "#PCA dengan 2 principal component\n",
        "pca = PCA(n_components=2)\n",
        "#menggunakn objek pca untuk mengurangi dimensi data latih dan secara bersamaan mengubah data menjadi representasi yang telah direduksi sebelumnya\n",
        "X_train_pca = pca.fit_transform(X_train)\n",
        "#model PCA didata ulang dan diubah menjadi representasi yang telah direduksi dimensinya\n",
        "X_test_pca = pca.fit_transform(X_test)"
      ],
      "metadata": {
        "id": "3q_JtIfXkXxv"
      },
      "execution_count": 5,
      "outputs": []
    },
    {
      "cell_type": "code",
      "source": [
        "#uji akurasi classifier\n",
        "model2 = decision_tree.fit(X_train_pca, y_train)\n",
        "#hasil akurasi data dari tes PCA sebelumnya\n",
        "model2.score(X_test_pca, y_test)"
      ],
      "metadata": {
        "colab": {
          "base_uri": "https://localhost:8080/"
        },
        "id": "kk1hcvnFk7cc",
        "outputId": "78010de1-6ea3-40e4-d4db-c2de4b4efc24"
      },
      "execution_count": 6,
      "outputs": [
        {
          "output_type": "execute_result",
          "data": {
            "text/plain": [
              "0.9666666666666667"
            ]
          },
          "metadata": {},
          "execution_count": 6
        }
      ]
    }
  ]
}