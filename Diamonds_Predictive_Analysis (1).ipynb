{
  "nbformat": 4,
  "nbformat_minor": 0,
  "metadata": {
    "colab": {
      "provenance": []
    },
    "kernelspec": {
      "name": "python3",
      "display_name": "Python 3"
    },
    "language_info": {
      "name": "python"
    }
  },
  "cells": [
    {
      "cell_type": "code",
      "execution_count": 1,
      "metadata": {
        "id": "FHCym2cG2ZQ3"
      },
      "outputs": [],
      "source": [
        "#Fahmi Nanda Saputro\n",
        "#1103200203"
      ]
    },
    {
      "cell_type": "code",
      "source": [
        "#perintah diatas merupakan library serta menghubungkan ke google drive\n",
        "import numpy as np\n",
        "import matplotlib.pyplot as plt\n",
        "import pandas as pd\n",
        "%matplotlib inline\n",
        "import seaborn as sns\n",
        "from google.colab import drive\n",
        "drive.mount('/content/drive')"
      ],
      "metadata": {
        "id": "3X9uTc3e3EM9"
      },
      "execution_count": null,
      "outputs": []
    },
    {
      "cell_type": "code",
      "source": [
        "#Melakukan pembacaan data set\n",
        "file_path='/content/drive/MyDrive/dataset/diamonds.csv'\n",
        "datas=pd.read_csv(file_path)\n",
        "\n",
        "print(datas.head())"
      ],
      "metadata": {
        "id": "puRgayox31_7"
      },
      "execution_count": null,
      "outputs": []
    },
    {
      "cell_type": "code",
      "source": [
        "#melakukan pembacaan info dataset\n",
        "datas.info()"
      ],
      "metadata": {
        "id": "5rz6_RFn4AIw"
      },
      "execution_count": null,
      "outputs": []
    },
    {
      "cell_type": "code",
      "source": [
        "#cek deskripsi dataset statistik\n",
        "datas.describe()"
      ],
      "metadata": {
        "id": "8wzCFWIz4VWF"
      },
      "execution_count": null,
      "outputs": []
    },
    {
      "cell_type": "code",
      "source": [
        "#melakukan pencarian angka 0 disetiap kolom dataset dan mengecek setiap dimensi dataset\n",
        "x = (datas.x == 0).sum()\n",
        "y = (datas.y == 0).sum()\n",
        "z = (datas.z == 0).sum()\n",
        "\n",
        "print(\"Nilai 0 di kolom x ada: \", x)\n",
        "print(\"Nilai 0 di kolom y ada: \", y)\n",
        "print(\"Nilai 0 di kolom z ada: \", z)\n"
      ],
      "metadata": {
        "id": "3-drhzZ54c2o"
      },
      "execution_count": null,
      "outputs": []
    },
    {
      "cell_type": "code",
      "source": [
        "#setelah dicek ternyata kolom Z ada banyak 0\n",
        "datas.loc[(datas['z']==0)]"
      ],
      "metadata": {
        "id": "UsuXfXpZ4zyT"
      },
      "execution_count": null,
      "outputs": []
    },
    {
      "cell_type": "code",
      "source": [
        "#Hapus missing value\n",
        "#Drop baris dengan nilai 'x', 'y', dan 'z' = 0\n",
        "datas = datas.loc[(datas[['x','y','z']]!=0).all(axis=1)]\n",
        "\n",
        "#cek ukuran data untuk memastikan baris sudah di-drop\n",
        "datas.shape"
      ],
      "metadata": {
        "id": "pJyPUCu-4_fi"
      },
      "execution_count": null,
      "outputs": []
    },
    {
      "cell_type": "code",
      "source": [
        "#cek kembali adakah nilai 0 pada data\n",
        "datas.describe()"
      ],
      "metadata": {
        "id": "kXoESyLE5H_Q"
      },
      "execution_count": null,
      "outputs": []
    },
    {
      "cell_type": "code",
      "source": [
        "#melakukan pembuatan grafik boxplot pada baris \"carat\"\n",
        "sns.boxplot(x=datas['carat'])"
      ],
      "metadata": {
        "id": "DQGBfqEG5MvQ"
      },
      "execution_count": null,
      "outputs": []
    },
    {
      "cell_type": "code",
      "source": [
        "#melakukan pembuatan grafik boxplot pada baris \"depth\"\n",
        "sns.boxplot(x=datas['depth'])"
      ],
      "metadata": {
        "id": "c5dz3FMH56i-"
      },
      "execution_count": null,
      "outputs": []
    },
    {
      "cell_type": "code",
      "source": [
        "#melakukan pembuatan grafik boxplot pada baris \"table\"\n",
        "sns.boxplot(x=datas['table'])"
      ],
      "metadata": {
        "id": "vJUZJCoB5-x_"
      },
      "execution_count": null,
      "outputs": []
    },
    {
      "cell_type": "code",
      "source": [
        "#melakukan pembuatan grafik boxplot pada baris \"price\"\n",
        "sns.boxplot(x=datas['price'])"
      ],
      "metadata": {
        "id": "p9PfjOBT6B-b"
      },
      "execution_count": null,
      "outputs": []
    },
    {
      "cell_type": "code",
      "source": [
        "#melakukan pembuatan grafik boxplot pada baris \"x\"\n",
        "sns.boxplot(x=datas['x'])"
      ],
      "metadata": {
        "id": "fst6TuzZ6GSH"
      },
      "execution_count": null,
      "outputs": []
    },
    {
      "cell_type": "code",
      "source": [
        "#melakukan pembuatan grafik boxplot pada baris \"y\"\n",
        "sns.boxplot(x=datas['y'])"
      ],
      "metadata": {
        "id": "bHK0uzUw6J9t"
      },
      "execution_count": null,
      "outputs": []
    },
    {
      "cell_type": "code",
      "source": [
        "#melakukan pembuatan grafik boxplot pada baris \"z\"\n",
        "sns.boxplot(x=datas['z'])"
      ],
      "metadata": {
        "id": "-lXzleW56LLm"
      },
      "execution_count": null,
      "outputs": []
    },
    {
      "cell_type": "code",
      "source": [
        "#membuat batas atas dan bawah dengan 0.25 dan 0.75\n",
        "Q1 = datas.quantile(0.25)\n",
        "Q3 = datas.quantile(0.75)\n",
        "IQR=Q3-Q1\n",
        "datas=datas[~((datas<(Q1-1.5*IQR))|(datas>(Q3+1.5*IQR))).any(axis=1)]\n",
        "\n",
        "# Cek ukuran dataset setelah kita drop outliers\n",
        "datas.shape"
      ],
      "metadata": {
        "id": "xqY4I5PT6N2j"
      },
      "execution_count": null,
      "outputs": []
    },
    {
      "cell_type": "code",
      "source": [
        "#tes lihat satu visualisasi boxplot\n",
        "sns.boxplot(x=datas['y'])"
      ],
      "metadata": {
        "id": "kcgrRA5z6jmk"
      },
      "execution_count": null,
      "outputs": []
    },
    {
      "cell_type": "markdown",
      "source": [
        "**MELAKUKAN TES ANALISIS DATA DENGAN UNIVARIATE EDA**"
      ],
      "metadata": {
        "id": "tkA9s_Dq6sCg"
      }
    },
    {
      "cell_type": "code",
      "source": [
        "#pisahkan fitur dataset numerical dan categorical\n",
        "numerical_features = ['price', 'carat', 'depth', 'table', 'x', 'y', 'z']\n",
        "categorical_features = ['cut', 'color', 'clarity']"
      ],
      "metadata": {
        "id": "US6w6n-h6nlA"
      },
      "execution_count": null,
      "outputs": []
    },
    {
      "cell_type": "code",
      "source": [
        "#Fitur kategorikal 'cut'\n",
        "feature = categorical_features[0]\n",
        "count = datas[feature].value_counts()\n",
        "percent = 100*datas[feature].value_counts(normalize=True)\n",
        "df = pd.DataFrame({'jumlah sampel':count, 'persentase':percent.round(1)})\n",
        "print(df)\n",
        "count.plot(kind='bar', title=feature)"
      ],
      "metadata": {
        "id": "lG22_xp064iq"
      },
      "execution_count": null,
      "outputs": []
    },
    {
      "cell_type": "code",
      "source": [
        "#fitur kategorikal 'color'\n",
        "#Deskripsi variabel: Kategori warna dari yang paling bagus menuju paling buruk adalah sebagai berikut D, E, F, G, H, I, J.\n",
        "feature = categorical_features[1]\n",
        "count = datas[feature].value_counts()\n",
        "percent = 100*datas[feature].value_counts(normalize=True)\n",
        "df = pd.DataFrame({'jumlah sampel':count, 'persentase':percent.round(1)})\n",
        "print(df)\n",
        "count.plot(kind='bar', title=feature);"
      ],
      "metadata": {
        "id": "GlFm30YH6_Y6"
      },
      "execution_count": null,
      "outputs": []
    },
    {
      "cell_type": "code",
      "source": [
        "#fitur kategorikal 'clarity'\n",
        "#8 kategori dari yang paling buruk ke yang paling baik, yaitu: I1, SI2, SI1, VS2, VS1, VVS2, VVS1, dan IF.\n",
        "feature = categorical_features[2]\n",
        "count = datas[feature].value_counts()\n",
        "percent = 100*datas[feature].value_counts(normalize=True)\n",
        "df = pd.DataFrame({'jumlah sampel':count, 'persentase':percent.round(1)})\n",
        "print(df)\n",
        "count.plot(kind='bar', title=feature);"
      ],
      "metadata": {
        "id": "8pzPi_bo7Ijp"
      },
      "execution_count": null,
      "outputs": []
    },
    {
      "cell_type": "code",
      "source": [
        "#melakukan analisis numerical feature\n",
        "datas.hist(bins=50, figsize=(20,15))\n",
        "plt.show()"
      ],
      "metadata": {
        "id": "C1mi_uVk7jSf"
      },
      "execution_count": null,
      "outputs": []
    },
    {
      "cell_type": "markdown",
      "source": [
        "**MELAKUKAN MULTIVARIATE ANALYSIS**"
      ],
      "metadata": {
        "id": "D0KxxCOr8Ois"
      }
    },
    {
      "cell_type": "code",
      "source": [
        "#cek rata-rata harga terhadap pengaruh masing-masing kategorikal fitur\n",
        "cat_features = datas.select_dtypes(include='object').columns.to_list()\n",
        "\n",
        "for col in cat_features:\n",
        "  sns.catplot(x=col, y=\"price\", kind=\"bar\", dodge=False, height = 4, aspect = 3,  data=datas, palette=\"Set3\")\n",
        "  plt.title(\"Rata-rata 'price' Relatif terhadap - {}\".format(col))"
      ],
      "metadata": {
        "id": "GV2aO4CP7q3C"
      },
      "execution_count": null,
      "outputs": []
    },
    {
      "cell_type": "code",
      "source": [
        "#mengamati hubungan antar fitur numerik dengan fungsi pairplot()\n",
        "sns.pairplot(datas, diag_kind = 'kde')"
      ],
      "metadata": {
        "id": "saleDL5R8YkV"
      },
      "execution_count": null,
      "outputs": []
    },
    {
      "cell_type": "code",
      "source": [
        "#evaluasai skor korelasi dengan fungsi corr()\n",
        "plt.figure(figsize=(10, 8))\n",
        "correlation_matrix = datas.corr().round(2)\n",
        "# annot = True to print the values inside the square\n",
        "sns.heatmap(data=correlation_matrix, annot=True, cmap='coolwarm', linewidths=0.5, )\n",
        "plt.title(\"Correlation Matrix untuk Fitur Numerik \", size=20)"
      ],
      "metadata": {
        "id": "ZrE63-RD80N6"
      },
      "execution_count": null,
      "outputs": []
    },
    {
      "cell_type": "code",
      "source": [
        "#Fitur depth memiliki korelasi yang kecil sehingga perlu di-drop.\n",
        "datas.drop(['depth'], inplace=True, axis=1)\n",
        "datas.head()"
      ],
      "metadata": {
        "id": "bevof8YX86a8"
      },
      "execution_count": null,
      "outputs": []
    },
    {
      "cell_type": "markdown",
      "source": [
        "**MELAKUKAN DATA PREPARATION**"
      ],
      "metadata": {
        "id": "lYH2Wpnw9F1h"
      }
    },
    {
      "cell_type": "code",
      "source": [
        "#Encoding Categorial Feature\n",
        "#one-hot-encoding\n",
        "from sklearn.preprocessing import OneHotEncoder\n",
        "datas = pd.concat([datas, pd.get_dummies(datas['cut'], prefix='cut', drop_first=True)], axis=1)\n",
        "datas = pd.concat([datas, pd.get_dummies(datas['color'], prefix='color', drop_first=True)], axis=1)\n",
        "datas = pd.concat([datas, pd.get_dummies(datas['clarity'], prefix='clarity', drop_first=True)], axis=1)\n",
        "datas.drop(['cut','color','clarity'], axis=1, inplace=True)\n",
        "datas.head()"
      ],
      "metadata": {
        "id": "RFQyQAZF9Dhb"
      },
      "execution_count": null,
      "outputs": []
    },
    {
      "cell_type": "code",
      "source": [
        "#Melaukan Principal Component Analysis\n",
        "sns.pairplot(datas[['x','y','z']], plot_kws={\"s\": 3});"
      ],
      "metadata": {
        "id": "EG-2TLRx9ZSr"
      },
      "execution_count": null,
      "outputs": []
    },
    {
      "cell_type": "code",
      "source": [
        "#PCA\n",
        "from sklearn.decomposition import PCA\n",
        "\n",
        "pca = PCA(n_components=3, random_state=123)\n",
        "pca.fit(datas[['x','y','z']])\n",
        "princ_comp = pca.transform(datas[['x','y','z']])\n",
        "pca.explained_variance_ratio_.round(3)"
      ],
      "metadata": {
        "id": "HXky4mHH9ly0"
      },
      "execution_count": null,
      "outputs": []
    },
    {
      "cell_type": "code",
      "source": [
        "#reduksi fitur x, y, z, menjadi fitur ukuran berlian\n",
        "from sklearn.decomposition import PCA\n",
        "pca = PCA(n_components=1, random_state=123) #jumlah komponen 1\n",
        "pca.fit(datas[['x','y','z']]) #fit model dengan data masukan\n",
        "datas['dimension'] = pca.transform(datas.loc[:, ('x','y','z')]).flatten() #menambahkan fitur 'dimension'\n",
        "datas.drop(['x','y','z'], axis=1, inplace=True) #drop kolom x, y, z"
      ],
      "metadata": {
        "id": "_HKV3yLc9_Ys"
      },
      "execution_count": null,
      "outputs": []
    },
    {
      "cell_type": "code",
      "source": [
        "#split dataset menjadi data train dan data test sebelum transformasi (supaya transformasi diterapkan hanya pada data latih)\n",
        "from sklearn.model_selection import train_test_split\n",
        "\n",
        "X = datas.drop([\"price\"], axis=1)\n",
        "y = datas[\"price\"]\n",
        "X_train, X_test, y_train, y_test = train_test_split(X, y, test_size = 0.1, random_state=123)"
      ],
      "metadata": {
        "id": "B0UIK0Aq-MAS"
      },
      "execution_count": null,
      "outputs": []
    },
    {
      "cell_type": "code",
      "source": [
        "print(f'Total # of sample in whole dataset: {len(X)}')\n",
        "print(f'Total # of sample in whole dataset: {len(X_train)}')\n",
        "print(f'Total # of sample in whole dataset: {len(X_test)}')"
      ],
      "metadata": {
        "id": "4SmisHDw-Qkf"
      },
      "execution_count": null,
      "outputs": []
    },
    {
      "cell_type": "code",
      "source": [
        "#Standardisasi dengan StandardScaler pada data latih\n",
        "from sklearn.preprocessing import StandardScaler\n",
        "\n",
        "numerical_features = ['carat', 'table', 'dimension']\n",
        "scaler = StandardScaler()\n",
        "scaler.fit(X_train[numerical_features])\n",
        "X_train[numerical_features] = scaler.transform(X_train.loc[:, numerical_features])\n",
        "X_train[numerical_features].head()"
      ],
      "metadata": {
        "id": "rvghUBnv-Zlc"
      },
      "execution_count": null,
      "outputs": []
    },
    {
      "cell_type": "code",
      "source": [
        "#Standarisasi mengubah mean menjadi 0 dan standar deviasi menjadi 1\n",
        "X_train[numerical_features].describe().round(4)"
      ],
      "metadata": {
        "id": "MHmw57c7-41C"
      },
      "execution_count": null,
      "outputs": []
    },
    {
      "cell_type": "markdown",
      "source": [
        "**MODEL DEVELOPMENT KNN**"
      ],
      "metadata": {
        "id": "_BhxkTvX_FdZ"
      }
    },
    {
      "cell_type": "code",
      "source": [
        "#Siapkan data frame untuk analisis model\n",
        "models = pd.DataFrame(index=['train_mse', 'test_mse'],\n",
        "                      columns=['KNN', 'RandomForest', 'Boosting'])"
      ],
      "metadata": {
        "id": "2rjhqi5a-_ML"
      },
      "execution_count": null,
      "outputs": []
    },
    {
      "cell_type": "code",
      "source": [
        "#Latih dengan model KNN\n",
        "from sklearn.neighbors import KNeighborsRegressor\n",
        "\n",
        "knn = KNeighborsRegressor(n_neighbors=10)\n",
        "knn.fit(X_train, y_train)\n",
        "y_pred_knn = knn.predict(X_train)"
      ],
      "metadata": {
        "id": "pppavCZ4_QSj"
      },
      "execution_count": null,
      "outputs": []
    },
    {
      "cell_type": "markdown",
      "source": [
        "**RANDOM FOREST**"
      ],
      "metadata": {
        "id": "0tOIGj9g_cPR"
      }
    },
    {
      "cell_type": "code",
      "source": [
        "# Impor library yang dibutuhkan\n",
        "from sklearn.metrics import mean_squared_error\n",
        "from sklearn.ensemble import RandomForestRegressor\n",
        "\n",
        "# buat model prediksi\n",
        "RF = RandomForestRegressor(n_estimators=50, max_depth=16, random_state=55, n_jobs=-1)\n",
        "RF.fit(X_train, y_train)\n",
        "\n",
        "models.loc['train_mse','RandomForest'] = mean_squared_error(y_pred=RF.predict(X_train), y_true=y_train)"
      ],
      "metadata": {
        "id": "MU-WBZM2_WmK"
      },
      "execution_count": null,
      "outputs": []
    },
    {
      "cell_type": "markdown",
      "source": [
        "**ALGORITMA BOOSTING (ADABOOST)**"
      ],
      "metadata": {
        "id": "6VH03KgR_eLR"
      }
    },
    {
      "cell_type": "code",
      "source": [
        "#memanggil library\n",
        "from sklearn.ensemble import AdaBoostRegressor\n",
        "\n",
        "#membuat boost model\n",
        "boosting = AdaBoostRegressor(n_estimators=50, learning_rate=0.05, random_state=55)\n",
        "boosting.fit(X_train, y_train)\n",
        "models.loc['train_mse','Boosting'] = mean_squared_error(y_pred=boosting.predict(X_train), y_true=y_train)"
      ],
      "metadata": {
        "id": "I38Y47mp_gT8"
      },
      "execution_count": null,
      "outputs": []
    },
    {
      "cell_type": "markdown",
      "source": [
        "**EVALUASI**"
      ],
      "metadata": {
        "id": "e5--EYDY_udA"
      }
    },
    {
      "cell_type": "code",
      "source": [
        "#Scaling data uji\n",
        "# Scale our numerical features so they have zero mean and a variance of one\n",
        "X_test.loc[:, numerical_features] = scaler.transform(X_test[numerical_features])"
      ],
      "metadata": {
        "id": "Azf2ENRZ_w16"
      },
      "execution_count": null,
      "outputs": []
    },
    {
      "cell_type": "code",
      "source": [
        "#Evaluasi ketiga model dengan metrik MSE\n",
        "mse = pd.DataFrame(columns=['train', 'test'], index=['KNN','RF','Boosting'])\n",
        "model_dict = {'KNN': knn, 'RF': RF, 'Boosting': boosting}\n",
        "for name, model in model_dict.items():\n",
        "    mse.loc[name, 'train'] = mean_squared_error(y_true=y_train, y_pred=model.predict(X_train))/1e3\n",
        "    mse.loc[name, 'test'] = mean_squared_error(y_true=y_test, y_pred=model.predict(X_test))/1e3\n",
        "\n",
        "mse"
      ],
      "metadata": {
        "id": "AhZ01uvdAE20"
      },
      "execution_count": null,
      "outputs": []
    },
    {
      "cell_type": "code",
      "source": [
        "#melakukan pembuatan plot\n",
        "fig, ax = plt.subplots()\n",
        "mse.sort_values(by='test', ascending=False).plot(kind='barh', ax=ax, zorder=3)\n",
        "ax.grid(zorder=0)\n"
      ],
      "metadata": {
        "id": "RVfEYEGFAbRt"
      },
      "execution_count": null,
      "outputs": []
    },
    {
      "cell_type": "code",
      "source": [
        "#Uji model dengan data test\n",
        "prediksi = X_test.iloc[:1].copy()\n",
        "pred_dict = {'y_true':y_test[:1]}\n",
        "for name, model in model_dict.items():\n",
        "    pred_dict['prediksi_'+name] = model.predict(prediksi).round(1)\n",
        "\n",
        "pd.DataFrame(pred_dict)"
      ],
      "metadata": {
        "id": "9WFakXbbAjsD"
      },
      "execution_count": null,
      "outputs": []
    }
  ]
}